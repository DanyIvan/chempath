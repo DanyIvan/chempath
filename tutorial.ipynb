{
 "cells": [
  {
   "cell_type": "markdown",
   "metadata": {},
   "source": [
    "# Using Chempath\n",
    "\n",
    "Chempath is a pathway analysis program that automatically builds the the most important pathways of a reaction system. This jupyter notebook explains how to use chempath. To use Chempath we first need to import it:"
   ]
  },
  {
   "cell_type": "code",
   "execution_count": 4,
   "metadata": {},
   "outputs": [],
   "source": [
    "from chempath import Chempath, get_latex_contribution_table\n",
    "import numpy as np"
   ]
  },
  {
   "cell_type": "markdown",
   "metadata": {},
   "source": [
    "Chempath requires four inputs from a chemical kinetics model in at two consecutive time steps: the reaction system with $n_r$ reactions between $n_s$ species, the species concentrations, the reaction rates, and the model time. The user can also input a minimum rate of pathways $f_{min}$. These input files need to be in a specific format. The folder `input` includes some examples of Chempath input files. The units can be any type of concentration, time and rate units as long as they are consistent. Lets explore these files:"
   ]
  },
  {
   "cell_type": "markdown",
   "metadata": {},
   "source": [
    "Chempath needs:\n",
    "\n",
    "- a reaction file with a list of reactions:"
   ]
  },
  {
   "cell_type": "code",
   "execution_count": 5,
   "metadata": {},
   "outputs": [
    {
     "name": "stdout",
     "output_type": "stream",
     "text": [
      "Reactions:  ['H2O2+OH=HO2+H2O' 'OH+OH=H2O2' 'H2O2+O=OH+HO2' 'H2O+HV=OH+O'\n",
      " 'H2O2+HV=OH+OH']\n"
     ]
    }
   ],
   "source": [
    "input_folder = 'input/simple_HOx/'\n",
    "# read reactions file\n",
    "reactions = np.loadtxt(f'{input_folder}/reactions.txt', dtype=str, delimiter='\\n')\n",
    "print('Reactions: ', reactions)\n"
   ]
  },
  {
   "cell_type": "markdown",
   "metadata": {},
   "source": [
    "- a rates file with a rate for each reaction:"
   ]
  },
  {
   "cell_type": "code",
   "execution_count": 6,
   "metadata": {},
   "outputs": [
    {
     "name": "stdout",
     "output_type": "stream",
     "text": [
      "Rates (ppb/hr):  [1.  0.5 1.5 5.  0.1]\n"
     ]
    }
   ],
   "source": [
    "# read rates file\n",
    "rates = np.fromfile(f'{input_folder}/rates.dat', dtype=np.float128)\n",
    "print('Rates (ppb/hr): ',rates)"
   ]
  },
  {
   "cell_type": "markdown",
   "metadata": {},
   "source": [
    "- a species file with the species names:"
   ]
  },
  {
   "cell_type": "code",
   "execution_count": 7,
   "metadata": {},
   "outputs": [
    {
     "name": "stdout",
     "output_type": "stream",
     "text": [
      "Species:  ['H2O2' 'OH' 'HO2' 'H2O' 'O']\n"
     ]
    }
   ],
   "source": [
    "# read species file\n",
    "species = np.loadtxt(f'{input_folder}/species.txt', dtype=str, delimiter='\\n')\n",
    "print('Species: ',species)\n"
   ]
  },
  {
   "cell_type": "markdown",
   "metadata": {},
   "source": [
    "- a model time file with two consecutive model times"
   ]
  },
  {
   "cell_type": "code",
   "execution_count": 8,
   "metadata": {},
   "outputs": [
    {
     "name": "stdout",
     "output_type": "stream",
     "text": [
      "Model time (hr):  [0. 1.]\n"
     ]
    }
   ],
   "source": [
    "# read model time file\n",
    "model_time = np.fromfile(f'{input_folder}/model_time.dat', dtype=np.float128)\n",
    "print('Model time (hr): ',model_time)"
   ]
  },
  {
   "cell_type": "markdown",
   "metadata": {},
   "source": [
    "- a concentrations file with the concentrations of the species at each model time:"
   ]
  },
  {
   "cell_type": "code",
   "execution_count": 9,
   "metadata": {},
   "outputs": [
    {
     "name": "stdout",
     "output_type": "stream",
     "text": [
      "Concentrations (ppb):  [[3.000e+00 6.000e+00 2.000e+00 1.000e+04 1.000e+01]\n",
      " [9.000e-01 1.070e+01 4.500e+00 9.996e+03 1.350e+01]]\n"
     ]
    }
   ],
   "source": [
    "# read species concentrations file\n",
    "concentrations = np.fromfile(f'{input_folder}/concentrations.dat', dtype=np.float128)\n",
    "print('Concentrations (ppb): ',concentrations.reshape(2, len(species)))"
   ]
  },
  {
   "cell_type": "markdown",
   "metadata": {},
   "source": [
    "To create a chempath object we need to provide the files with these inputs:"
   ]
  },
  {
   "cell_type": "code",
   "execution_count": 10,
   "metadata": {},
   "outputs": [],
   "source": [
    "input_folder = 'input/simple_ozone/'\n",
    "chempath = Chempath(\n",
    "        reactions_path=f'{input_folder}/reactions.txt', # file with reaction equations\n",
    "        rates_path=f'{input_folder}/rates.dat', # file with reaction rates\n",
    "        species_path=f'{input_folder}/species.txt', # file with species names\n",
    "        conc_path=f'{input_folder}/concentrations.dat', # file concentrations of species\n",
    "        time_path=f'{input_folder}/model_time.dat', # file with model time\n",
    "        f_min=0, # minimum rate of pathways\n",
    "        dtype=np.float128, # data type of rates and concentrations,\n",
    "        ignored_sb = ['O2'] # ignore O2 as a branching-point species\n",
    "    )"
   ]
  },
  {
   "cell_type": "markdown",
   "metadata": {},
   "source": [
    "Chempath has several attributes that are used to construct pathways. Here is a list of them:\n",
    "\n",
    "- `chempath.f_min`: minimum rates of pathways\n",
    "- `chempath.time`: model time\n",
    "- `chempath.dt`: model time step\n",
    "- `chempath.mean_time`: mean model time\n",
    "- `chempath.species_list`: list of species in the reaction system\n",
    "- `chempath.conc`: species concentrations at times defined in model time\n",
    "- `chempath.dconc`: species concentration change in model time step \n",
    "- `chempath.mean_conc`: species mean concentration\n",
    "- `chempath.mean_dconc`: species rate of concentration change\n",
    "- `chempath.reaction_equations`: list of reaction equations\n",
    "- `chempath.rj`: reaction rates\n",
    "- `chempath.rj_del`: part of rate of reaction j associated with deleted pathways\n",
    "- `chempath.sij`: number of molecules of species i produces or destroyed by reaction j\n",
    "- `chempath.xjk`: multiplicity of reaction j in pathway k\n",
    "- `chempath.pathway_ids`: list of unique pathways ids\n",
    "- `chempath.mik`: number of molecules of species i produces or destroyed by pathway k\n",
    "- `chempath.fk`: rates of pathways\n",
    "- `chempath.pi_del`: rate of production of species i by deleted pathways\n",
    "- `chempath.di_del`: rate of destruction of species i by deleted pathways\n",
    "- `chempath.pi`: rate of production of species i by all pathways\n",
    "- `chempath.di`: rate of destruction of species i by all pathways\n",
    "- `chempath.sb_list`: list of used branching-point species\n",
    "- `chempath.species_of_interest`: list of species of interest\n",
    "- `chempath.ignored_sb`: list of species not considered as branching-points"
   ]
  },
  {
   "cell_type": "markdown",
   "metadata": {},
   "source": [
    "In this tutorial we are going to analyze a very simple example with 4 reactions representing the chapman O3 production and destruction reactions. This example eas taken from Lehmann (2004). In this particular example the concentration units are ppb, but in general we can use any concentration units.  \n",
    "\n",
    "We can see the reaction equations and their rates with:"
   ]
  },
  {
   "cell_type": "code",
   "execution_count": 11,
   "metadata": {},
   "outputs": [
    {
     "name": "stdout",
     "output_type": "stream",
     "text": [
      "Reactions:  ['O3+hv=O+O2' 'O2+hv=O+O' 'O+O2+M=O3' 'O+O3=O2+O2']\n",
      "Rates:  [80. 10. 99.  1.]\n"
     ]
    }
   ],
   "source": [
    "print('Reactions: ',chempath.reaction_equations) \n",
    "print('Rates: ', chempath.rj) # units of ppb/hr"
   ]
  },
  {
   "cell_type": "markdown",
   "metadata": {},
   "source": [
    "We can see the species involved in this chemical system, their mean concentrations and their concentrations changes with:"
   ]
  },
  {
   "cell_type": "code",
   "execution_count": 12,
   "metadata": {},
   "outputs": [
    {
     "name": "stdout",
     "output_type": "stream",
     "text": [
      "Species:  ['O3', 'O2', 'O']\n",
      "Mean concentrations  [1.00009000e+05 9.99999865e+07 1.00000000e+02]\n",
      "Concentration changes:  [ 18. -27.   0.]\n"
     ]
    }
   ],
   "source": [
    "print('Species: ', chempath.species_list)\n",
    "print('Mean concentrations ', chempath.mean_conc) # units of ppb\n",
    "print('Concentration changes: ', chempath.dconc) # units of ppb\n"
   ]
  },
  {
   "cell_type": "markdown",
   "metadata": {},
   "source": [
    "To apply chempath to a chemical model, the reactions must exactly explain the concentration changes of all the species. Let's verify that this condition is true in the current example:"
   ]
  },
  {
   "cell_type": "code",
   "execution_count": 13,
   "metadata": {},
   "outputs": [
    {
     "name": "stdout",
     "output_type": "stream",
     "text": [
      "total reaction production:  [ 18. -27.   0.]\n",
      "production - loss:  [ 18. -27.   0.]\n",
      "Concentration changes:  [ 18. -27.   0.]\n"
     ]
    }
   ],
   "source": [
    "# calculate the ppb  produced or destroyed by the reactions\n",
    "total_reactions_production = np.dot(chempath.sij, chempath.rj) * chempath.dt\n",
    "print('total reaction production: ', total_reactions_production)\n",
    "print('production - loss: ', chempath.pi - chempath.di)\n",
    "print('Concentration changes: ', chempath.dconc) # units of ppb"
   ]
  },
  {
   "cell_type": "markdown",
   "metadata": {},
   "source": [
    "Initially each reaction is considered as a pathway:"
   ]
  },
  {
   "cell_type": "code",
   "execution_count": 14,
   "metadata": {},
   "outputs": [
    {
     "name": "stdout",
     "output_type": "stream",
     "text": [
      "Reactions:\n",
      " [['O3+hv=O+O2']\n",
      " ['O2+hv=O+O']\n",
      " ['O+O2+M=O3']\n",
      " ['O+O3=O2+O2']]\n",
      "Multiplicities (xjk):\n",
      " [[1 0 0 0]\n",
      " [0 1 0 0]\n",
      " [0 0 1 0]\n",
      " [0 0 0 1]]\n"
     ]
    }
   ],
   "source": [
    "print('Reactions:\\n', np.vstack(chempath.reaction_equations))\n",
    "print('Multiplicities (xjk):\\n', chempath.xjk)"
   ]
  },
  {
   "cell_type": "markdown",
   "metadata": {},
   "source": [
    "We can think of a column in the xjk matrix as a pathway. Intitially there is only one reaction in each pathway. For example the first pathway only has the reaction 'O3+hv=O+O2'.\n",
    "\n",
    "Chempath constructs pathways through the iterative connection of previously formed pathways through\n",
    "branching-point species:\n",
    "\n",
    "<img src=\"plots/pap_algorithm.png\" alt=\"Algorithm\" width=50% height=35%/>\n",
    "\n",
    "We can perform each of the steps in an iteration of this algorithm with:"
   ]
  },
  {
   "cell_type": "code",
   "execution_count": 15,
   "metadata": {},
   "outputs": [
    {
     "name": "stdout",
     "output_type": "stream",
     "text": [
      "The branching-point specie is: O\n"
     ]
    }
   ],
   "source": [
    "# Choice of a branching-pointspecies Sb\n",
    "sb = chempath.get_sb()\n",
    "print(f'The branching-point specie is: {sb}')\n",
    "# get idexes of pathways producing and destroying sb\n",
    "chempath.get_prod_destr_idxs(sb)\n",
    "# Formation of new pathway\n",
    "chempath.form_new_pathways()\n",
    "# Effect of deleted pathways calculation\n",
    "chempath.calculate_deleted_pathways_effect()\n",
    "# Calculation of rates explaining concentration changes\n",
    "chempath.calculate_rates_explaining_conc_change()\n",
    "# Deletion of old pathways \n",
    "chempath.delete_old_pathways()\n",
    "# Deletion of pathways with a rate < fmin\n",
    "chempath.delete_insignificant_pathways()\n",
    "# Formation of elementary pathways and splitting into sub-pathways\n",
    "chempath.split_into_subpathways(exact_solutions=True)\n",
    "# check that rates are correctly distributed\n",
    "chempath.check_rate_distribution()"
   ]
  },
  {
   "cell_type": "markdown",
   "metadata": {},
   "source": [
    "Yuu can get information about each of these methods using the `?` operator. For example:"
   ]
  },
  {
   "cell_type": "code",
   "execution_count": 16,
   "metadata": {},
   "outputs": [
    {
     "name": "stdout",
     "output_type": "stream",
     "text": [
      "\u001b[0;31mSignature:\u001b[0m \u001b[0mchempath\u001b[0m\u001b[0;34m.\u001b[0m\u001b[0mget_prod_destr_idxs\u001b[0m\u001b[0;34m(\u001b[0m\u001b[0msb\u001b[0m\u001b[0;34m)\u001b[0m\u001b[0;34m\u001b[0m\u001b[0;34m\u001b[0m\u001b[0m\n",
      "\u001b[0;31mDocstring:\u001b[0m\n",
      "Gets the indexes of the pathways producing and destroying Sb\n",
      "        \n",
      "\u001b[0;31mFile:\u001b[0m      ~/Files/projects/Pathway Analysis/chempath/chempath.py\n",
      "\u001b[0;31mType:\u001b[0m      method\n"
     ]
    }
   ],
   "source": [
    "chempath.get_prod_destr_idxs?"
   ]
  },
  {
   "cell_type": "markdown",
   "metadata": {},
   "source": [
    "In this first iteration the branching-point species is O. All reactions producing O will be connected with all reactions consuming O to create new pathways. We can see the new pathways in the matrix xjk:"
   ]
  },
  {
   "cell_type": "code",
   "execution_count": 17,
   "metadata": {},
   "outputs": [
    {
     "data": {
      "text/plain": [
       "array([[1., 1., 0., 0.],\n",
       "       [0., 0., 1., 1.],\n",
       "       [1., 0., 2., 0.],\n",
       "       [0., 1., 0., 2.]])"
      ]
     },
     "execution_count": 17,
     "metadata": {},
     "output_type": "execute_result"
    }
   ],
   "source": [
    "chempath.xjk"
   ]
  },
  {
   "cell_type": "markdown",
   "metadata": {},
   "source": [
    "The method 'get_pathway_str' converts the representation of a pathways as an array of multiplicities to a string:"
   ]
  },
  {
   "cell_type": "code",
   "execution_count": 18,
   "metadata": {},
   "outputs": [
    {
     "name": "stdout",
     "output_type": "stream",
     "text": [
      "\u001b[0;31mSignature:\u001b[0m \u001b[0mchempath\u001b[0m\u001b[0;34m.\u001b[0m\u001b[0mget_pathway_str\u001b[0m\u001b[0;34m(\u001b[0m\u001b[0mxjc\u001b[0m\u001b[0;34m,\u001b[0m \u001b[0mformat\u001b[0m\u001b[0;34m=\u001b[0m\u001b[0;34m'txt'\u001b[0m\u001b[0;34m,\u001b[0m \u001b[0minclude_net_reaction\u001b[0m\u001b[0;34m=\u001b[0m\u001b[0;32mTrue\u001b[0m\u001b[0;34m)\u001b[0m\u001b[0;34m\u001b[0m\u001b[0;34m\u001b[0m\u001b[0m\n",
      "\u001b[0;31mDocstring:\u001b[0m\n",
      "Gets the string of a pathway given its multiplicities.\n",
      "Arguments:\n",
      "    xjc (numpy 1d array): multiplicities of pathway\n",
      "    format(str): format of the pathway string. Can be 'txt', 'latex' or\n",
      "        'html\n",
      "    include_net_reaction(bool): If true includes the net reaction in \n",
      "        the pathway string\n",
      "Returns:\n",
      "    pathway string (str)\n",
      "\u001b[0;31mFile:\u001b[0m      ~/Files/projects/Pathway Analysis/chempath/chempath.py\n",
      "\u001b[0;31mType:\u001b[0m      method\n"
     ]
    }
   ],
   "source": [
    "chempath.get_pathway_str?"
   ]
  },
  {
   "cell_type": "markdown",
   "metadata": {},
   "source": [
    "We can use this method to see the pathways found by Chempath in this iteration:"
   ]
  },
  {
   "cell_type": "code",
   "execution_count": 19,
   "metadata": {},
   "outputs": [
    {
     "name": "stdout",
     "output_type": "stream",
     "text": [
      "Pathway 1 with rate=79.2ppb:\n",
      "O3+hv -> O+O2\n",
      "O+O2+M -> O3\n",
      "Net:Null\n",
      "\n",
      "\n",
      "Pathway 2 with rate=0.8ppb:\n",
      "O3+hv -> O+O2\n",
      "O+O3 -> O2+O2\n",
      "Net:2O3 -> 3O2\n",
      "\n",
      "\n",
      "Pathway 3 with rate=9.9ppb:\n",
      "O2+hv -> O+O\n",
      "2(O+O2+M -> O3)\n",
      "Net:3O2 -> 2O3\n",
      "\n",
      "\n",
      "Pathway 4 with rate=0.1ppb:\n",
      "O2+hv -> O+O\n",
      "2(O+O3 -> O2+O2)\n",
      "Net:2O3 -> 3O2\n",
      "\n",
      "\n"
     ]
    }
   ],
   "source": [
    "# print all pathways formed and their rates\n",
    "for i in range(len(chempath.fk)):\n",
    "    print(f'Pathway {i+1} with rate={chempath.fk[i]}ppb:')\n",
    "    pathway = chempath.get_pathway_str(chempath.xjk[:,i])\n",
    "    print(pathway)\n",
    "    print('\\n')"
   ]
  },
  {
   "cell_type": "markdown",
   "metadata": {},
   "source": [
    "The pathways found by the algorithm must produce the same number of molecules as the initial reactions. Let's verify that this is the case:"
   ]
  },
  {
   "cell_type": "code",
   "execution_count": 20,
   "metadata": {},
   "outputs": [
    {
     "name": "stdout",
     "output_type": "stream",
     "text": [
      "total pathway production:  [ 18. -27.   0.]\n"
     ]
    }
   ],
   "source": [
    "pathway_total_production = np.dot(chempath.mik, chempath.fk) * chempath.dt\n",
    "print('total pathway production: ', pathway_total_production)"
   ]
  },
  {
   "cell_type": "markdown",
   "metadata": {},
   "source": [
    "We can see the contributions of the pathways to the loss or production of a species with:"
   ]
  },
  {
   "cell_type": "code",
   "execution_count": 21,
   "metadata": {},
   "outputs": [
    {
     "name": "stdout",
     "output_type": "stream",
     "text": [
      "\u001b[0;31mSignature:\u001b[0m \u001b[0mchempath\u001b[0m\u001b[0;34m.\u001b[0m\u001b[0mget_pathways_contributions\u001b[0m\u001b[0;34m(\u001b[0m\u001b[0msp\u001b[0m\u001b[0;34m,\u001b[0m \u001b[0mon\u001b[0m\u001b[0;34m=\u001b[0m\u001b[0;34m'loss'\u001b[0m\u001b[0;34m,\u001b[0m \u001b[0mformat\u001b[0m\u001b[0;34m=\u001b[0m\u001b[0;34m'txt'\u001b[0m\u001b[0;34m)\u001b[0m\u001b[0;34m\u001b[0m\u001b[0;34m\u001b[0m\u001b[0m\n",
      "\u001b[0;31mDocstring:\u001b[0m\n",
      "Calculate the contribution of all pathways to the loss or production \n",
      "of a species\n",
      "Arguments:\n",
      "    sp(str): species to calculate contributions for\n",
      "    on(str): can be 'loss' or 'production'\n",
      "    format(str): format of pathway strings. Can be 'txt', 'html' and \n",
      "    'latex'\n",
      "Returns:\n",
      "    contrib_df: pandas dataframe with contributions    \n",
      "\u001b[0;31mFile:\u001b[0m      ~/Files/projects/Pathway Analysis/chempath/chempath.py\n",
      "\u001b[0;31mType:\u001b[0m      method\n"
     ]
    }
   ],
   "source": [
    "chempath.get_pathways_contributions?"
   ]
  },
  {
   "cell_type": "code",
   "execution_count": 22,
   "metadata": {},
   "outputs": [
    {
     "data": {
      "text/html": [
       "<div>\n",
       "<style scoped>\n",
       "    .dataframe tbody tr th:only-of-type {\n",
       "        vertical-align: middle;\n",
       "    }\n",
       "\n",
       "    .dataframe tbody tr th {\n",
       "        vertical-align: top;\n",
       "    }\n",
       "\n",
       "    .dataframe thead th {\n",
       "        text-align: right;\n",
       "    }\n",
       "</style>\n",
       "<table border=\"1\" class=\"dataframe\">\n",
       "  <thead>\n",
       "    <tr style=\"text-align: right;\">\n",
       "      <th></th>\n",
       "      <th>pathway_id</th>\n",
       "      <th>pathway</th>\n",
       "      <th>contribution</th>\n",
       "      <th>rate</th>\n",
       "      <th>total_prod</th>\n",
       "      <th>dconc</th>\n",
       "    </tr>\n",
       "  </thead>\n",
       "  <tbody>\n",
       "    <tr>\n",
       "      <th>0</th>\n",
       "      <td>1*0,1*3</td>\n",
       "      <td>O3+hv -&gt; O+O2\\nO+O3 -&gt; O2+O2\\nNet:2O3 -&gt; 3O2</td>\n",
       "      <td>0.888889</td>\n",
       "      <td>0.8</td>\n",
       "      <td>-1.6</td>\n",
       "      <td>18.0</td>\n",
       "    </tr>\n",
       "    <tr>\n",
       "      <th>1</th>\n",
       "      <td>1*1,2*3</td>\n",
       "      <td>O2+hv -&gt; O+O\\n2(O+O3 -&gt; O2+O2)\\nNet:2O3 -&gt; 3O2</td>\n",
       "      <td>0.111111</td>\n",
       "      <td>0.1</td>\n",
       "      <td>-0.2</td>\n",
       "      <td>18.0</td>\n",
       "    </tr>\n",
       "    <tr>\n",
       "      <th>2</th>\n",
       "      <td>del</td>\n",
       "      <td>deleted_pathways</td>\n",
       "      <td>0.000000</td>\n",
       "      <td>0.0</td>\n",
       "      <td>0.0</td>\n",
       "      <td>18.0</td>\n",
       "    </tr>\n",
       "  </tbody>\n",
       "</table>\n",
       "</div>"
      ],
      "text/plain": [
       "  pathway_id                                         pathway  contribution  \\\n",
       "0    1*0,1*3    O3+hv -> O+O2\\nO+O3 -> O2+O2\\nNet:2O3 -> 3O2      0.888889   \n",
       "1    1*1,2*3  O2+hv -> O+O\\n2(O+O3 -> O2+O2)\\nNet:2O3 -> 3O2      0.111111   \n",
       "2        del                                deleted_pathways      0.000000   \n",
       "\n",
       "   rate  total_prod  dconc  \n",
       "0   0.8        -1.6   18.0  \n",
       "1   0.1        -0.2   18.0  \n",
       "2   0.0         0.0   18.0  "
      ]
     },
     "execution_count": 22,
     "metadata": {},
     "output_type": "execute_result"
    }
   ],
   "source": [
    "chempath.get_pathways_contributions('O3', 'loss')"
   ]
  },
  {
   "cell_type": "code",
   "execution_count": 23,
   "metadata": {},
   "outputs": [
    {
     "data": {
      "text/html": [
       "<div>\n",
       "<style scoped>\n",
       "    .dataframe tbody tr th:only-of-type {\n",
       "        vertical-align: middle;\n",
       "    }\n",
       "\n",
       "    .dataframe tbody tr th {\n",
       "        vertical-align: top;\n",
       "    }\n",
       "\n",
       "    .dataframe thead th {\n",
       "        text-align: right;\n",
       "    }\n",
       "</style>\n",
       "<table border=\"1\" class=\"dataframe\">\n",
       "  <thead>\n",
       "    <tr style=\"text-align: right;\">\n",
       "      <th></th>\n",
       "      <th>pathway_id</th>\n",
       "      <th>pathway</th>\n",
       "      <th>contribution</th>\n",
       "      <th>rate</th>\n",
       "      <th>total_prod</th>\n",
       "      <th>dconc</th>\n",
       "    </tr>\n",
       "  </thead>\n",
       "  <tbody>\n",
       "    <tr>\n",
       "      <th>0</th>\n",
       "      <td>1*0,1*3</td>\n",
       "      <td>O3+hv -&gt; O+O2\\nO+O3 -&gt; O2+O2\\nNet:2O3 -&gt; 3O2</td>\n",
       "      <td>0.888889</td>\n",
       "      <td>0.8</td>\n",
       "      <td>2.4</td>\n",
       "      <td>-27.0</td>\n",
       "    </tr>\n",
       "    <tr>\n",
       "      <th>1</th>\n",
       "      <td>1*1,2*3</td>\n",
       "      <td>O2+hv -&gt; O+O\\n2(O+O3 -&gt; O2+O2)\\nNet:2O3 -&gt; 3O2</td>\n",
       "      <td>0.111111</td>\n",
       "      <td>0.1</td>\n",
       "      <td>0.3</td>\n",
       "      <td>-27.0</td>\n",
       "    </tr>\n",
       "    <tr>\n",
       "      <th>2</th>\n",
       "      <td>del</td>\n",
       "      <td>deleted_pathways</td>\n",
       "      <td>0.000000</td>\n",
       "      <td>0.0</td>\n",
       "      <td>0.0</td>\n",
       "      <td>-27.0</td>\n",
       "    </tr>\n",
       "  </tbody>\n",
       "</table>\n",
       "</div>"
      ],
      "text/plain": [
       "  pathway_id                                         pathway  contribution  \\\n",
       "0    1*0,1*3    O3+hv -> O+O2\\nO+O3 -> O2+O2\\nNet:2O3 -> 3O2      0.888889   \n",
       "1    1*1,2*3  O2+hv -> O+O\\n2(O+O3 -> O2+O2)\\nNet:2O3 -> 3O2      0.111111   \n",
       "2        del                                deleted_pathways      0.000000   \n",
       "\n",
       "   rate  total_prod  dconc  \n",
       "0   0.8         2.4  -27.0  \n",
       "1   0.1         0.3  -27.0  \n",
       "2   0.0         0.0  -27.0  "
      ]
     },
     "execution_count": 23,
     "metadata": {},
     "output_type": "execute_result"
    }
   ],
   "source": [
    "chempath.get_pathways_contributions('O2', 'production')"
   ]
  },
  {
   "cell_type": "markdown",
   "metadata": {},
   "source": [
    "Let's do another iteration to find new pathways. The method `find_new_pathways` performs the same steps as a above to do an iteration of the algorithm at a specific branching-point species."
   ]
  },
  {
   "cell_type": "code",
   "execution_count": 24,
   "metadata": {},
   "outputs": [
    {
     "name": "stdout",
     "output_type": "stream",
     "text": [
      "The branching-point specie is: O3\n",
      "Pathway 1 with rate=80.0ppb:\n",
      "O3+hv -> O+O2\n",
      "O+O2+M -> O3\n",
      "Net:Null\n",
      "\n",
      "\n",
      "Pathway 2 with rate=9.0ppb:\n",
      "O2+hv -> O+O\n",
      "2(O+O2+M -> O3)\n",
      "Net:3O2 -> 2O3\n",
      "\n",
      "\n",
      "Pathway 3 with rate=1.0000000000000002ppb:\n",
      "O2+hv -> O+O\n",
      "O+O2+M -> O3\n",
      "O+O3 -> O2+O2\n",
      "Net:Null\n",
      "\n",
      "\n"
     ]
    }
   ],
   "source": [
    "sb =chempath.get_sb()\n",
    "print(f'The branching-point specie is: {sb}')\n",
    "chempath.find_new_pathways(sb)\n",
    "\n",
    "# print all pathways formed and their rates\n",
    "for i in range(len(chempath.fk)):\n",
    "    print(f'Pathway {i+1} with rate={chempath.fk[i]}ppb:')\n",
    "    pathway = chempath.get_pathway_str(chempath.xjk[:,i])\n",
    "    print(pathway)\n",
    "    print('\\n')"
   ]
  },
  {
   "cell_type": "markdown",
   "metadata": {},
   "source": [
    "We can find new pathways one branching-point species at a time as shown above. Alternatively we can use the `find_all_pathways` method to iterate over all branching-points species:"
   ]
  },
  {
   "cell_type": "code",
   "execution_count": 25,
   "metadata": {},
   "outputs": [
    {
     "name": "stdout",
     "output_type": "stream",
     "text": [
      "Pathway 1 with rate=80.0ppb:\n",
      "O3+hv -> O+O2\n",
      "O+O2+M -> O3\n",
      "Net:Null\n",
      "\n",
      "\n",
      "Pathway 2 with rate=9.0ppb:\n",
      "O2+hv -> O+O\n",
      "2(O+O2+M -> O3)\n",
      "Net:3O2 -> 2O3\n",
      "\n",
      "\n",
      "Pathway 3 with rate=1.0000000000000002ppb:\n",
      "O2+hv -> O+O\n",
      "O+O2+M -> O3\n",
      "O+O3 -> O2+O2\n",
      "Net:Null\n",
      "\n",
      "\n"
     ]
    }
   ],
   "source": [
    "#re-initialize chempath object\n",
    "chempath.reinit()\n",
    "\n",
    "# find all pathways\n",
    "chempath.find_all_pathways()\n",
    "\n",
    "# print all pathways formed and their rates\n",
    "for i in range(len(chempath.fk)):\n",
    "    print(f'Pathway {i+1} with rate={chempath.fk[i]}ppb:')\n",
    "    pathway = chempath.get_pathway_str(chempath.xjk[:,i])\n",
    "    print(pathway)\n",
    "    print('\\n')"
   ]
  },
  {
   "cell_type": "markdown",
   "metadata": {},
   "source": [
    "The attribute `sb_list` contains the list of barnching point species used by the algorithm in the same order they were used:"
   ]
  },
  {
   "cell_type": "code",
   "execution_count": 26,
   "metadata": {},
   "outputs": [
    {
     "data": {
      "text/plain": [
       "['O', 'O3']"
      ]
     },
     "execution_count": 26,
     "metadata": {},
     "output_type": "execute_result"
    }
   ],
   "source": [
    "chempath.sb_list"
   ]
  },
  {
   "cell_type": "markdown",
   "metadata": {},
   "source": [
    "# Using $f_{min}$\n",
    "\n",
    "If we set $f_{min}$ to a value different than zero, the pathways with rates lower than $f_{min}$ will be deleted. For example, we can set $f_min=2ppb$:"
   ]
  },
  {
   "cell_type": "code",
   "execution_count": 27,
   "metadata": {},
   "outputs": [
    {
     "name": "stdout",
     "output_type": "stream",
     "text": [
      "Pathway 1 with rate=79.2ppb:\n",
      "O3+hv -> O+O2\n",
      "O+O2+M -> O3\n",
      "Net:Null\n",
      "\n",
      "\n",
      "Pathway 2 with rate=9.9ppb:\n",
      "O2+hv -> O+O\n",
      "2(O+O2+M -> O3)\n",
      "Net:3O2 -> 2O3\n",
      "\n",
      "\n"
     ]
    }
   ],
   "source": [
    "#re-initialize chempath object\n",
    "chempath.reinit()\n",
    "\n",
    "# set fmin = 2\n",
    "chempath.f_min = 2\n",
    "\n",
    "# find all pathways\n",
    "chempath.find_all_pathways()\n",
    "\n",
    "chempath.find_all_pathways()\n",
    "\n",
    "# print all pathways formed and their rates\n",
    "for i in range(len(chempath.fk)):\n",
    "    print(f'Pathway {i+1} with rate={chempath.fk[i]}ppb:')\n",
    "    pathway = chempath.get_pathway_str(chempath.xjk[:,i])\n",
    "    print(pathway)\n",
    "    print('\\n')"
   ]
  },
  {
   "cell_type": "markdown",
   "metadata": {},
   "source": [
    "In this case, the pathway 3 found above was deleted, and the attributes `pi_del` and `di_del` that store the rate production and destruction of species by deleted pathways will have values different than zero:"
   ]
  },
  {
   "cell_type": "code",
   "execution_count": 28,
   "metadata": {},
   "outputs": [
    {
     "name": "stdout",
     "output_type": "stream",
     "text": [
      "rate of production of species by deleted pathways:  [0.  2.7 0. ]\n",
      "rate of destruction of species by deleted pathways:  [1.8 0.  0. ]\n"
     ]
    }
   ],
   "source": [
    "print('rate of production of species by deleted pathways: ',chempath.pi_del)\n",
    "print('rate of destruction of species by deleted pathways: ',chempath.di_del)"
   ]
  },
  {
   "cell_type": "markdown",
   "metadata": {},
   "source": [
    "In this case, the pathways by themselves no longer explain the concentration changes because some pathways were deleted:"
   ]
  },
  {
   "cell_type": "code",
   "execution_count": 29,
   "metadata": {},
   "outputs": [
    {
     "name": "stdout",
     "output_type": "stream",
     "text": [
      "total pathway production:  [ 19.8 -29.7   0. ]\n",
      "Concentration changes:  [ 18. -27.   0.]\n"
     ]
    }
   ],
   "source": [
    "pathway_total_production = np.dot(chempath.mik, chempath.fk) * chempath.dt\n",
    "print('total pathway production: ', pathway_total_production)\n",
    "print('Concentration changes: ', chempath.dconc) # units of ppb"
   ]
  },
  {
   "cell_type": "markdown",
   "metadata": {},
   "source": [
    "However, if we include the effect of deleted pathways, the concentration changes are explained:"
   ]
  },
  {
   "cell_type": "code",
   "execution_count": 30,
   "metadata": {},
   "outputs": [
    {
     "name": "stdout",
     "output_type": "stream",
     "text": [
      "total pathway production:  [ 18. -27.   0.]\n",
      "Concentration changes:  [ 18. -27.   0.]\n"
     ]
    }
   ],
   "source": [
    "pathway_total_production = np.dot(chempath.mik, chempath.fk) * chempath.dt\n",
    "print('total pathway production: ', pathway_total_production + chempath.pi_del - chempath.di_del)\n",
    "print('Concentration changes: ', chempath.dconc) # units of ppb"
   ]
  },
  {
   "cell_type": "markdown",
   "metadata": {},
   "source": [
    "# Simple $HO_x$ example \n",
    "\n",
    "In the main manuscript we used a simple example to explain the algorithm. We can use Chempath to find the pathways in this simple example:"
   ]
  },
  {
   "cell_type": "code",
   "execution_count": 31,
   "metadata": {},
   "outputs": [
    {
     "data": {
      "text/html": [
       "<div>\n",
       "<style scoped>\n",
       "    .dataframe tbody tr th:only-of-type {\n",
       "        vertical-align: middle;\n",
       "    }\n",
       "\n",
       "    .dataframe tbody tr th {\n",
       "        vertical-align: top;\n",
       "    }\n",
       "\n",
       "    .dataframe thead th {\n",
       "        text-align: right;\n",
       "    }\n",
       "</style>\n",
       "<table border=\"1\" class=\"dataframe\">\n",
       "  <thead>\n",
       "    <tr style=\"text-align: right;\">\n",
       "      <th></th>\n",
       "      <th>pathway_id</th>\n",
       "      <th>pathway</th>\n",
       "      <th>contribution</th>\n",
       "      <th>rate</th>\n",
       "      <th>total_prod</th>\n",
       "      <th>dconc</th>\n",
       "    </tr>\n",
       "  </thead>\n",
       "  <tbody>\n",
       "    <tr>\n",
       "      <th>0</th>\n",
       "      <td>1*2,1*3</td>\n",
       "      <td>H2O2+O -&gt; OH+HO2\\nH2O+HV -&gt; OH+O\\nNet:H2O2 + H...</td>\n",
       "      <td>0.374336</td>\n",
       "      <td>0.935841</td>\n",
       "      <td>0.935841</td>\n",
       "      <td>2.5</td>\n",
       "    </tr>\n",
       "    <tr>\n",
       "      <th>1</th>\n",
       "      <td>2*0,1*2,1*3</td>\n",
       "      <td>2(H2O2+OH -&gt; HO2+H2O)\\nH2O2+O -&gt; OH+HO2\\nH2O+H...</td>\n",
       "      <td>0.206493</td>\n",
       "      <td>0.172078</td>\n",
       "      <td>0.516233</td>\n",
       "      <td>2.5</td>\n",
       "    </tr>\n",
       "    <tr>\n",
       "      <th>2</th>\n",
       "      <td>1*0,1*3</td>\n",
       "      <td>H2O2+OH -&gt; HO2+H2O\\nH2O+HV -&gt; OH+O\\nNet:H2O2 -...</td>\n",
       "      <td>0.185841</td>\n",
       "      <td>0.464602</td>\n",
       "      <td>0.464602</td>\n",
       "      <td>2.5</td>\n",
       "    </tr>\n",
       "    <tr>\n",
       "      <th>3</th>\n",
       "      <td>1*1,1*2,1*3</td>\n",
       "      <td>OH+OH -&gt; H2O2\\nH2O2+O -&gt; OH+HO2\\nH2O+HV -&gt; OH+...</td>\n",
       "      <td>0.130060</td>\n",
       "      <td>0.325149</td>\n",
       "      <td>0.325149</td>\n",
       "      <td>2.5</td>\n",
       "    </tr>\n",
       "    <tr>\n",
       "      <th>4</th>\n",
       "      <td>del</td>\n",
       "      <td>deleted_pathways</td>\n",
       "      <td>0.059022</td>\n",
       "      <td>0.147556</td>\n",
       "      <td>0.147556</td>\n",
       "      <td>2.5</td>\n",
       "    </tr>\n",
       "    <tr>\n",
       "      <th>5</th>\n",
       "      <td>1*0,1*1,3*3</td>\n",
       "      <td>H2O2+OH -&gt; HO2+H2O\\nOH+OH -&gt; H2O2\\n3(H2O+HV -&gt;...</td>\n",
       "      <td>0.044248</td>\n",
       "      <td>0.110619</td>\n",
       "      <td>0.110619</td>\n",
       "      <td>2.5</td>\n",
       "    </tr>\n",
       "  </tbody>\n",
       "</table>\n",
       "</div>"
      ],
      "text/plain": [
       "    pathway_id                                            pathway  \\\n",
       "0      1*2,1*3  H2O2+O -> OH+HO2\\nH2O+HV -> OH+O\\nNet:H2O2 + H...   \n",
       "1  2*0,1*2,1*3  2(H2O2+OH -> HO2+H2O)\\nH2O2+O -> OH+HO2\\nH2O+H...   \n",
       "2      1*0,1*3  H2O2+OH -> HO2+H2O\\nH2O+HV -> OH+O\\nNet:H2O2 -...   \n",
       "3  1*1,1*2,1*3  OH+OH -> H2O2\\nH2O2+O -> OH+HO2\\nH2O+HV -> OH+...   \n",
       "4          del                                   deleted_pathways   \n",
       "5  1*0,1*1,3*3  H2O2+OH -> HO2+H2O\\nOH+OH -> H2O2\\n3(H2O+HV ->...   \n",
       "\n",
       "   contribution      rate  total_prod  dconc  \n",
       "0      0.374336  0.935841    0.935841    2.5  \n",
       "1      0.206493  0.172078    0.516233    2.5  \n",
       "2      0.185841  0.464602    0.464602    2.5  \n",
       "3      0.130060  0.325149    0.325149    2.5  \n",
       "4      0.059022  0.147556    0.147556    2.5  \n",
       "5      0.044248  0.110619    0.110619    2.5  "
      ]
     },
     "execution_count": 31,
     "metadata": {},
     "output_type": "execute_result"
    }
   ],
   "source": [
    "# initialize chempath\n",
    "input_folder = 'input/simple_HOx/'\n",
    "chempath = Chempath(\n",
    "        reactions_path=f'{input_folder}/reactions.txt', # file with reaction equations\n",
    "        rates_path=f'{input_folder}/rates.dat', # file with reaction rates\n",
    "        species_path=f'{input_folder}/species.txt', # file with species names\n",
    "        conc_path=f'{input_folder}/concentrations.dat', # file concentrations of species\n",
    "        time_path=f'{input_folder}/model_time.dat', # file with model time\n",
    "        f_min=0.02, # minimum rate of pathways\n",
    "        dtype=np.float128, # data type of rates and concentrations,\n",
    "        ignored_sb = ['HO2', 'H2O'] # ignore HO2 and H2O as a branching-point species\n",
    "    )\n",
    "\n",
    "# finad all pathways\n",
    "chempath.find_all_pathways()\n",
    "\n",
    "# get contributions of pathways producing HO2\n",
    "chempath.get_pathways_contributions('HO2', on='production')"
   ]
  },
  {
   "cell_type": "markdown",
   "metadata": {},
   "source": [
    "We can get a latex table with these contributions:"
   ]
  },
  {
   "cell_type": "code",
   "execution_count": 32,
   "metadata": {},
   "outputs": [
    {
     "name": "stdout",
     "output_type": "stream",
     "text": [
      "\n",
      "        \\begin{longtable}{ |c|c|c|c| }\n",
      "        \\hline\n",
      "        ID & Pathway & Contribution (\\%) & Rate \\\\\n",
      "        \\hline\n",
      "        1 & \\begin{tabular}{@{}c@{}}\\ce{ H2O2 + O -> OH + HO2\\\\H2O + HV -> OH + O\\\\\\text{Net:} H2O2 + H2O -> 2OH + HO2 }\\end{tabular} & 37.434 & 0.936\\\\\n",
      " \\hline \n",
      "2 & \\begin{tabular}{@{}c@{}}\\ce{ 2(H2O2 + OH -> HO2 + H2O)\\\\H2O2 + O -> OH + HO2\\\\H2O + HV -> OH + O\\\\\\text{Net:} 3H2O2 -> 3HO2 + H2O }\\end{tabular} & 20.649 & 0.172\\\\\n",
      " \\hline \n",
      "3 & \\begin{tabular}{@{}c@{}}\\ce{ H2O2 + OH -> HO2 + H2O\\\\H2O + HV -> OH + O\\\\\\text{Net:} H2O2 -> HO2 + O }\\end{tabular} & 18.584 & 0.465\\\\\n",
      " \\hline \n",
      "4 & \\begin{tabular}{@{}c@{}}\\ce{ OH + OH -> H2O2\\\\H2O2 + O -> OH + HO2\\\\H2O + HV -> OH + O\\\\\\text{Net:} H2O -> HO2 }\\end{tabular} & 13.006 & 0.325\\\\\n",
      " \\hline \n",
      "5 & \\begin{tabular}{@{}c@{}}deleted_pathways\\end{tabular} & 5.902 & 0.148\\\\\n",
      " \\hline \n",
      "\n",
      "        \\end{longtable}\n",
      "        \n"
     ]
    }
   ],
   "source": [
    "# get contributions of pathways producing HO2\n",
    "contribution_df = chempath.get_pathways_contributions('HO2', on='production',\n",
    "    format='latex')\n",
    "print(get_latex_contribution_table(contribution_df))\n"
   ]
  },
  {
   "cell_type": "markdown",
   "metadata": {},
   "source": [
    "You can also use the pandas `to_latex` and `to_markdown` methods to make tables:"
   ]
  },
  {
   "cell_type": "code",
   "execution_count": 33,
   "metadata": {},
   "outputs": [
    {
     "name": "stdout",
     "output_type": "stream",
     "text": [
      "\\begin{tabular}{lllrrrr}\n",
      "\\toprule\n",
      "{} &   pathway\\_id &                                            pathway &  contribution &      rate &  total\\_prod &  dconc \\\\\n",
      "\\midrule\n",
      "0 &      1*2,1*3 &  \\textbackslash ce\\{ H2O2 + O -> OH + HO2\\textbackslash \\textbackslash H2O + HV -> OH + O\\textbackslash ... &      0.374336 &  0.935841 &    0.935841 &    2.5 \\\\\n",
      "1 &  2*0,1*2,1*3 &  \\textbackslash ce\\{ 2(H2O2 + OH -> HO2 + H2O)\\textbackslash \\textbackslash H2O2 + O -> OH... &      0.206493 &  0.172078 &    0.516233 &    2.5 \\\\\n",
      "2 &      1*0,1*3 &  \\textbackslash ce\\{ H2O2 + OH -> HO2 + H2O\\textbackslash \\textbackslash H2O + HV -> OH + ... &      0.185841 &  0.464602 &    0.464602 &    2.5 \\\\\n",
      "3 &  1*1,1*2,1*3 &  \\textbackslash ce\\{ OH + OH -> H2O2\\textbackslash \\textbackslash H2O2 + O -> OH + HO2\\textbackslash \\textbackslash H2... &      0.130060 &  0.325149 &    0.325149 &    2.5 \\\\\n",
      "4 &          del &                                   deleted\\_pathways &      0.059022 &  0.147556 &    0.147556 &    2.5 \\\\\n",
      "5 &  1*0,1*1,3*3 &  \\textbackslash ce\\{ H2O2 + OH -> HO2 + H2O\\textbackslash \\textbackslash OH + OH -> H2O2\\textbackslash \\textbackslash ... &      0.044248 &  0.110619 &    0.110619 &    2.5 \\\\\n",
      "\\bottomrule\n",
      "\\end{tabular}\n",
      "\n"
     ]
    }
   ],
   "source": [
    "print(contribution_df.to_latex())"
   ]
  },
  {
   "cell_type": "code",
   "execution_count": 34,
   "metadata": {},
   "outputs": [
    {
     "name": "stdout",
     "output_type": "stream",
     "text": [
      "|    | pathway                     |   contribution |     rate |\n",
      "|---:|:----------------------------|---------------:|---------:|\n",
      "|  0 | H2O2+O -> OH+HO2            |      0.374336  | 0.935841 |\n",
      "|    | H2O+HV -> OH+O              |                |          |\n",
      "|    | Net:H2O2 + H2O -> 2OH + HO2 |                |          |\n",
      "|  1 | 2(H2O2+OH -> HO2+H2O)       |      0.206493  | 0.172078 |\n",
      "|    | H2O2+O -> OH+HO2            |                |          |\n",
      "|    | H2O+HV -> OH+O              |                |          |\n",
      "|    | Net:3H2O2 -> 3HO2 + H2O     |                |          |\n",
      "|  2 | H2O2+OH -> HO2+H2O          |      0.185841  | 0.464602 |\n",
      "|    | H2O+HV -> OH+O              |                |          |\n",
      "|    | Net:H2O2 -> HO2 + O         |                |          |\n",
      "|  3 | OH+OH -> H2O2               |      0.13006   | 0.325149 |\n",
      "|    | H2O2+O -> OH+HO2            |                |          |\n",
      "|    | H2O+HV -> OH+O              |                |          |\n",
      "|    | Net:H2O -> HO2              |                |          |\n",
      "|  4 | deleted_pathways            |      0.0590223 | 0.147556 |\n",
      "|  5 | H2O2+OH -> HO2+H2O          |      0.0442478 | 0.110619 |\n",
      "|    | OH+OH -> H2O2               |                |          |\n",
      "|    | 3(H2O+HV -> OH+O)           |                |          |\n",
      "|    | Net:2H2O -> HO2 + 3O        |                |          |\n"
     ]
    }
   ],
   "source": [
    "contribution_df = chempath.get_pathways_contributions('HO2', on='production',\n",
    "    format='txt')\n",
    "print(contribution_df[['pathway', 'contribution', 'rate']].to_markdown())"
   ]
  }
 ],
 "metadata": {
  "kernelspec": {
   "display_name": "base",
   "language": "python",
   "name": "python3"
  },
  "language_info": {
   "codemirror_mode": {
    "name": "ipython",
    "version": 3
   },
   "file_extension": ".py",
   "mimetype": "text/x-python",
   "name": "python",
   "nbconvert_exporter": "python",
   "pygments_lexer": "ipython3",
   "version": "3.9.7"
  }
 },
 "nbformat": 4,
 "nbformat_minor": 2
}
